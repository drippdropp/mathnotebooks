{
 "cells": [
  {
   "cell_type": "markdown",
   "id": "6b16a67c-ff4f-4a64-b454-6d27d3f4d0a0",
   "metadata": {},
   "source": [
    "# Mathematics Refresher"
   ]
  },
  {
   "cell_type": "code",
   "execution_count": 94,
   "id": "dcdefc4d-be3c-4aa6-b63d-bfe9a0b50efb",
   "metadata": {},
   "outputs": [
    {
     "name": "stderr",
     "output_type": "stream",
     "text": [
      "\u001b[32m\u001b[1m   Resolving\u001b[22m\u001b[39m package versions...\n",
      "\u001b[32m\u001b[1m  No Changes\u001b[22m\u001b[39m to `~/.julia/environments/v1.9/Project.toml`\n",
      "\u001b[32m\u001b[1m  No Changes\u001b[22m\u001b[39m to `~/.julia/environments/v1.9/Manifest.toml`\n",
      "\u001b[32m\u001b[1m   Resolving\u001b[22m\u001b[39m package versions...\n",
      "\u001b[32m\u001b[1m  No Changes\u001b[22m\u001b[39m to `~/.julia/environments/v1.9/Project.toml`\n",
      "\u001b[32m\u001b[1m  No Changes\u001b[22m\u001b[39m to `~/.julia/environments/v1.9/Manifest.toml`\n",
      "\u001b[32m\u001b[1m   Resolving\u001b[22m\u001b[39m package versions...\n",
      "\u001b[32m\u001b[1m  No Changes\u001b[22m\u001b[39m to `~/.julia/environments/v1.9/Project.toml`\n",
      "\u001b[32m\u001b[1m  No Changes\u001b[22m\u001b[39m to `~/.julia/environments/v1.9/Manifest.toml`\n",
      "\u001b[32m\u001b[1m   Resolving\u001b[22m\u001b[39m package versions...\n",
      "\u001b[32m\u001b[1m  No Changes\u001b[22m\u001b[39m to `~/.julia/environments/v1.9/Project.toml`\n",
      "\u001b[32m\u001b[1m  No Changes\u001b[22m\u001b[39m to `~/.julia/environments/v1.9/Manifest.toml`\n",
      "\u001b[32m\u001b[1m   Resolving\u001b[22m\u001b[39m package versions...\n",
      "\u001b[32m\u001b[1m  No Changes\u001b[22m\u001b[39m to `~/.julia/environments/v1.9/Project.toml`\n",
      "\u001b[32m\u001b[1m  No Changes\u001b[22m\u001b[39m to `~/.julia/environments/v1.9/Manifest.toml`\n"
     ]
    }
   ],
   "source": [
    "# This will install and include a couple of Julia libraries\n",
    "\n",
    "using Pkg\n",
    "Pkg.add(\"Plots\")\n",
    "Pkg.add(\"RowEchelon\")\n",
    "Pkg.add(\"DataFrames\")\n",
    "Pkg.add(\"Statistics\")\n",
    "Pkg.add(\"StatsBase\")\n",
    "\n",
    "using Plots, LinearAlgebra, RowEchelon, DataFrames, Statistics, StatsBase"
   ]
  },
  {
   "cell_type": "markdown",
   "id": "fdcf021a-93d1-4b1a-b84f-a80510c7ba73",
   "metadata": {},
   "source": [
    "### Some Julia Basics"
   ]
  },
  {
   "cell_type": "code",
   "execution_count": 85,
   "id": "fda7f56f-ddb4-488d-b211-4eac0ad74f91",
   "metadata": {},
   "outputs": [
    {
     "name": "stdout",
     "output_type": "stream",
     "text": [
      "a = [1, 2, 3, 4]\n",
      "a = [1 2 3 4]\n",
      "a = Set([2, 3, 1])\n",
      "(Real, Integer, Rational, Complex, ComplexF64, Int8, Int16, Int32, Int64, Float16, Float32, Float64) = (Real, Integer, Rational, Complex, ComplexF64, Int8, Int16, Int32, Int64, Float16, Float32, Float64)\n",
      "V = [1 2; 3 -1]\n",
      "z = 2 + 5im\n",
      "1\n",
      "2\n",
      "3\n",
      "X = 2\n"
     ]
    },
    {
     "data": {
      "text/plain": [
       "2"
      ]
     },
     "execution_count": 85,
     "metadata": {},
     "output_type": "execute_result"
    }
   ],
   "source": [
    "# vectors\n",
    "# column vector\n",
    "a = [1,2,3,4]\n",
    "@show a\n",
    "\n",
    "# row vector\n",
    "a = [ 1 2 3 4 ]\n",
    "@show a\n",
    "\n",
    "# sets\n",
    "a = Set([1,2,3])\n",
    "@show a\n",
    "\n",
    "# some numeric types\n",
    "@show Real, Integer, Rational, Complex, ComplexF64, Int8, Int16, Int32, Int64, Float16, Float32, Float64\n",
    "\n",
    "# matrix\n",
    "V = [ 1 2 ; 3 -1 ]\n",
    "@show V\n",
    "\n",
    "# complex num\n",
    "z = 2 + 5im\n",
    "@show z\n",
    "\n",
    "# loops are like python\n",
    "for i in 1:3\n",
    "    println(i)\n",
    "end\n",
    "\n",
    "# functions can be 1 liners\n",
    "identity(x) = x\n",
    "\n",
    "# or multiline functions\n",
    "function identity(x::Any)\n",
    "    return x\n",
    "end\n",
    "\n",
    "# constants\n",
    "const X = 2\n",
    "@show X"
   ]
  },
  {
   "cell_type": "markdown",
   "id": "7cb69ea9-ac25-4301-9f30-9d9692d39636",
   "metadata": {},
   "source": [
    "Recall that anything to the zeroth power is $1$.\n",
    "\n",
    "$$ a^0 = 1 $$\n",
    "\n",
    "Also recall the power of the equal sign. If something is $=$ to another thing, they are the exact same thing. For example, if we stored two variables where $x = 2$ and $y = 2$, then $x = y$. In computing, these are technically different since we are storing $x$ and $y$ in different memory registries. However in math, if something is equal to another thing, that something *is* the other thing. Mathematics is a _language_, so we can express a thing in many ways, but if it is equal to another thing, it *is* that thing.\n",
    "\n",
    "An even number is given as: $2n$, and an odd number as: $2n+1$, where $n \\in \\mathbb{Z}$, the integers."
   ]
  },
  {
   "cell_type": "markdown",
   "id": "10a267b0-dfd9-47f0-ae2d-c0c44bb61cfb",
   "metadata": {},
   "source": [
    "### Proofs\n",
    "\n",
    "In Mathematics, we will want to prove everything. There are numerous ways to accomplish this but I'll mention a couple quickly.\n",
    "\n",
    "Direct proof is where we just execute a computation of some sort so we can directly see the result.\n",
    "\n",
    "For example, lets prove that the square of an odd number will always be odd.\n",
    "\n",
    "Starting from the definition of an odd number, $2n+1$, we directly prove this.\n",
    "\n",
    "Let $x = 2n + 1$. Squaring both sides yields:\n",
    "\n",
    "$$ x^2 = (2n + 1)^2 = 4n^2 + 4n + 1 = 2(2n^2 + 2n) + 1$$\n",
    "\n",
    "If we set $k = 2n^2 + 2n$ and substitute in to the last part, we can see it is $2k+1$ which is the definition of an odd number.\n",
    "\n",
    "Now let's prove that the square of an even number will always be even.\n",
    "\n",
    "Let $x = 2n$. Squaring both side yields:\n",
    "\n",
    "$$ x^2 = 4n^2 = 2(2n^2) $$\n",
    "\n",
    "Once again setting $k = 2n^2$ and substituting, we can see that $2k$ is the defintion of an even number.\n",
    "\n",
    "Proofs are all about using existing definitions and theorems to _convince_ your reader that what you are saying is true. Any faulty steps in the proof will cause the entire thing to fail. We essentially will want to start with some definitions and perform operations and re-write expressions until we've arrived at forms which match other definitions or properly express the original definitions in another way."
   ]
  },
  {
   "cell_type": "markdown",
   "id": "b6eda3d4-459b-496b-938e-11e501cc32d2",
   "metadata": {},
   "source": [
    "## Properties of Exponents and Logs\n",
    "\n",
    "### Exponents\n",
    "\n",
    "Here 2 is the base and 3 is the exponent. The notation means multiply the base, 2, by itself three times.\n",
    "\n",
    "$$ 2^3 = 2 \\times 2 \\times 2 = 8 $$\n",
    "\n",
    "$$ a^b $$\n",
    "\n",
    "If it's a negative exponent, it's the same as being in the denominator.\n",
    "\n",
    "$$ a^{-b} = \\frac{1}{a^b} $$\n",
    "\n",
    "If an exponent is a _fraction_ then it's a root.\n",
    "\n",
    "$$ a^{\\frac{1}{2}} = \\sqrt{a} $$\n",
    "$$ a^{\\frac{1}{3}} = \\sqrt[3]{a} $$\n",
    "$$ a^{-\\frac{1}{3}} = \\frac{1}{\\sqrt[3]{a}} $$\n",
    "\n",
    "$$ a^{b + c} = a^b\\dot a^c$$\n",
    "\n",
    "$$ (a^{m})^n = a^{mn}$$\n",
    "$$ (ab)^{m} = a^m b^m $$\n",
    "\n",
    "### Logarithms\n",
    "\n",
    "$$ \\ln(ab) = \\ln(a) + \\ln(b) $$\n",
    "$$ \\ln(\\frac{a}{b}) = \\ln(a) - \\ln(b) $$\n",
    "$$ \\log_b(a) = \\frac{\\ln(a)}{\\ln(b)}$$\n",
    "\n",
    "\n",
    "The natural exponent, $e$ or $\\exp$, has an inverse which is the natural logarithm, $\\log = \\log_e = \\ln$.\n",
    "\n",
    "Commonly when written, $\\ln$ is the natural log, $\\log$ is usually log base 10 or 2 depending on the context. In thermodynamics, it's more commonly log base 10, while in computer science it's more commonly log base 2.\n",
    "\n",
    "$$ \\exp(\\ln(a)) = a $$\n"
   ]
  },
  {
   "cell_type": "code",
   "execution_count": 90,
   "id": "0673214a-813b-402d-b63f-7b4ae7b36473",
   "metadata": {},
   "outputs": [
    {
     "data": {
      "text/plain": [
       "true"
      ]
     },
     "execution_count": 90,
     "metadata": {},
     "output_type": "execute_result"
    }
   ],
   "source": [
    "exp(log(1)) == 1 && log(exp(1)) == 1"
   ]
  },
  {
   "cell_type": "markdown",
   "id": "88eb5ea6-388b-45c8-8e18-f76b1e549f97",
   "metadata": {},
   "source": [
    "## Sets, Lists, Vectors, Objects\n",
    "\n",
    "An **object** is any sort of item. It could be a number, a set, a list, anything. We will also call these _members_, _elements_, _items_, etc. depending on the context.\n",
    "\n",
    "A **set** is an unordered collection of distinct objects.\n",
    "\n",
    "$$ S = \\{ A, B, C \\} $$\n",
    "\n",
    "A **list** or a **vector** is an ordered collection of objects. We also called these _tuples_ sometimes.\n",
    "\n",
    "$$ L = ( A, A, B, C ) $$\n",
    "\n",
    "All modern mathematics are described in terms of sets, so this is super important to have a really firm grasp on."
   ]
  },
  {
   "cell_type": "markdown",
   "id": "9fda0f93-980c-40c7-a18f-45ba62afe688",
   "metadata": {},
   "source": [
    "### Set Operations\n",
    "\n",
    "There are three set operations of interest: union $A \\cup B$ , intersection $A \\cap B$, and set difference $A - B$.\n",
    "\n",
    "A union is all distinct elements from both sets, an intersection is the distinct elements which are in both sets, and a set difference $A-B$ removes all elements of $B$ from $A$.\n",
    "\n",
    "A union can be thought of as \"or\" and an intersection can be thought of as \"and\" and this translates to bitwise operations. This also translates to logic operations, $p \\land q$ (\"and\") and $p \\lor q$ (\"or\"). I remember them by $\\land$ looking like an \"a\" for \"and\" or someone pulling \"both\" together and $\\lor$ is being \"either\" like someone throwing up their hands, it could be \"either!\"\n",
    " \n",
    "Some more notation:\n",
    "\n",
    "If we have a set, $A$, which contains elements, $a, b, c, d, e$ all of which are also sets containing other elements. If we want to describe the collection of all of the elements of all the elements of $A$, we would write it as:\n",
    "\n",
    "$$ \\bigcup_i A_i = a \\cup b \\cup c \\cup d \\cup e $$\n",
    "\n",
    "This means for every element of $A$, which we are giving each element a dummy variable of $i$, we will take the union.\n",
    "\n",
    "$$ \\bigcup_i A_i = a \\cup b \\cup c \\cup d \\cup e $$\n",
    "\n",
    "Suppose that _all_ of the elements of $A$ contain unique elements themselves, so nothing in $a$ is in $b$ and nothing in $b$ is in $c$, etc. We can easily express that as:\n",
    "\n",
    "$$ \\bigcap_i A_i = \\emptyset $$\n",
    "\n",
    "where $\\emptyset$ is the empty set. It's a set with no elements. This means mutual exclusivity among all the elements of $A$.\n",
    "\n",
    "So, if you see $\\bigcap_i A_i = \\emptyset$, it means that every element of $A$ has elements which are unique to itself. Think about this as a square split in two sections, $S = \\{ a, b \\}$ where $a$ contains all of the points in the section $a$ and $b$ contains all of the points in section $b$. Since no point in $a$ is also in $b$ (think of a square on a coordinate plane split into two sections), the intersection of $a$ and $b$ would be the empty set. "
   ]
  },
  {
   "cell_type": "code",
   "execution_count": 19,
   "id": "93db1850-b600-4cbf-9949-61d30e427937",
   "metadata": {},
   "outputs": [
    {
     "name": "stdout",
     "output_type": "stream",
     "text": [
      "A: Set([2, 3, 1])\n",
      "B: Set([2, 3])\n",
      "Intersection of A and B: Set([2, 3])\n"
     ]
    },
    {
     "data": {
      "text/plain": [
       "Set{Int64} with 1 element:\n",
       "  1"
      ]
     },
     "execution_count": 19,
     "metadata": {},
     "output_type": "execute_result"
    }
   ],
   "source": [
    "A = Set([1,2,3])\n",
    "println(\"A: \", A)\n",
    "\n",
    "# Notice that a set must have distinct elements, so my input with two 2's is reduced to one.\n",
    "B = Set([2,2,3])\n",
    "println(\"B: \", B)\n",
    "\n",
    "# INTERSECTION:\n",
    "C = intersect(A, B)\n",
    "println(\"Intersection of A and B: \", C)\n",
    "\n",
    "# set difference\n",
    "setdiff(A, B)"
   ]
  },
  {
   "cell_type": "code",
   "execution_count": 21,
   "id": "6e44d554-6eb6-4361-be91-c2f294e78981",
   "metadata": {},
   "outputs": [
    {
     "data": {
      "text/plain": [
       "true"
      ]
     },
     "execution_count": 21,
     "metadata": {},
     "output_type": "execute_result"
    }
   ],
   "source": [
    "# Make sure you understand why this is true:\n",
    "union(A, B) == union(setdiff(A, B), B)"
   ]
  },
  {
   "cell_type": "markdown",
   "id": "e0d31002-a96d-43ce-bb2e-1cd524d40e3a",
   "metadata": {},
   "source": [
    "### Major Numerical Sets\n",
    "\n",
    "$\\mathbb{R}$ are the real numbers. This is pretty much everything including counting numbers, integers, rational numbers, transcendental numbers, etc. We often call these \"the reals.\"\n",
    "\n",
    "$\\mathbb{N}$ are the natural numbers or \"counting numbers.\" Some people include $0$ and others don't. I do, so, $\\mathbb{N} = \\{ 0, 1, 2, 3, 4 \\}$.\n",
    "\n",
    "$\\mathbb{Z}$ are the integers. The \"Z\" comes from the German word, _zahlen_, which means number. Integers are the natural numbers, but also includes negatives. Sometimes you will see stuff like, $\\mathbb{Z}^+$ which means only the positive integers, therefore $\\mathbb{Z}^+ = \\mathbb{N}$.\n",
    "\n",
    "$\\mathbb{Q}$ are the rational numbers (fractions). Note that $1 = \\frac{1}{1}$, so all integers are also included in the rationals.\n",
    "\n",
    "$\\mathbb{C}$ are the complex numbers. This is a separate topic, but complex numbers are numbers with the form: $a + bi$ where $i = \\sqrt{-1}$.\n",
    "\n",
    "This notation of $\\mathbb{F}$ will usually refer to some general \"field.\" We'll talk about fields later."
   ]
  },
  {
   "cell_type": "markdown",
   "id": "ceb61c18-6a15-4493-ba2b-4d854ee007fd",
   "metadata": {},
   "source": [
    "# Linear Algebra\n",
    "\n",
    "### Vector Spaces\n",
    "\n",
    "A _vector space_ is a set of vectors combined with some additional properties and operations. The convention is to use latin characters, $a$, $b$, etc. as elements of the vector space and greek characters, $\\alpha$, $\\beta$, $\\gamma$, etc. as scalars (one-dimensional numbers), e.g.\n",
    "\n",
    "$$ \\alpha_1 v_1 + \\alpha_2 v_2 + \\cdots + \\alpha_n v_n $$\n",
    "\n",
    "> A quick note. Just like we often see $i$, $j$, and $k$ grouped, $m$ and $n$ grouped, $s$ snd $t$ grouped, etc. we will also see some common greek notation combined together too. $\\mu$ (\"mu\") and $\\nu$ (\"nu\"), $\\theta$ (\"theta\"), $\\phi$ (\"phi\"), and $\\rho$ (\"rho\"), and $\\sigma$ (\"sigma\") and $\\tau$ (\"tau\"). You will also often see lambda, $\\lambda$. It's helpful to memorize the greek alphabet so you can easily identify and work with the characters without needing to look them up. Depending on the field of study, you will see common conventions too. For example, a lot of people use $a + ib$ for complex numbers in general, while electric engineers use $a + jb$ in electrical engineering (since EEs tend to use $i$ for electric current), and number theorists generally use $s + it$ for complex numbers. Sometimes you will need to identify conventions based on field.\n",
    "\n",
    "#### Properties of a Vector Space\n",
    "\n",
    "Let $ V $ be a vector space over a field $ F $. The _field_ here is something like the real numbers, rational numbers, or integers. There are specific properties of a field which we will include later.\n",
    "\n",
    "1. **Closure under Addition:** For any $ \\mathbf{u}, \\mathbf{v} \\in V$, their sum $\\mathbf{u} + \\mathbf{v}$ is also in $V$.\n",
    "    $$ \\forall \\mathbf{u}, \\mathbf{v} \\in V, \\quad \\mathbf{u} + \\mathbf{v} \\in V $$\n",
    "\n",
    "2. **Associativity of Addition:** Addition is associative in $ V $.\n",
    "    $$ \\forall \\mathbf{u}, \\mathbf{v}, \\mathbf{w} \\in V, \\quad (\\mathbf{u} + \\mathbf{v}) + \\mathbf{w} = \\mathbf{u} + (\\mathbf{v} + \\mathbf{w}) $$\n",
    "\n",
    "3. **Commutativity of Addition:** Addition is commutative in $ V $.\n",
    "    $$ \\forall \\mathbf{u}, \\mathbf{v} \\in V, \\quad \\mathbf{u} + \\mathbf{v} = \\mathbf{v} + \\mathbf{u} $$\n",
    "\n",
    "4. **Additive Identity:** There exists an element $ \\mathbf{0} $ in $ V $ such that for any $ \\mathbf{v} \\in V $, $ \\mathbf{v} + \\mathbf{0} = \\mathbf{v} $.\n",
    "    $$ \\exists \\mathbf{0} \\in V \\quad \\text{s.t.} \\quad \\forall \\mathbf{v} \\in V, \\quad \\mathbf{v} + \\mathbf{0} = \\mathbf{v} $$\n",
    "\n",
    "5. **Additive Inverse:** For every $ \\mathbf{v} \\in V $, there exists an element $ -\\mathbf{v} $ in $ V $ such that $ \\mathbf{v} + (-\\mathbf{v}) = \\mathbf{0} $.\n",
    "    $$ \\forall \\mathbf{v} \\in V, \\quad \\exists (-\\mathbf{v}) \\in V \\quad \\text{s.t.} \\quad \\mathbf{v} + (-\\mathbf{v}) = \\mathbf{0} $$\n",
    "\n",
    "6. **Closure under Scalar Multiplication:** For any scalar $ a \\in F $ and any $ \\mathbf{v} \\in V $, their product $ a \\mathbf{v} $ is in $ V $.\n",
    "    $$ \\forall a \\in F, \\ \\forall \\mathbf{v} \\in V, \\quad a\\mathbf{v} \\in V $$\n",
    "\n",
    "7. **Scalar Multiplication Distributivity:** Scalar multiplication distributes over vector addition.\n",
    "    $$ \\forall a, b \\in F, \\ \\forall \\mathbf{v} \\in V, \\quad a(b\\mathbf{v}) = (ab)\\mathbf{v} $$\n",
    "\n",
    "8. **Vector Multiplication Distributivity:** Scalar addition distributes over vectors.\n",
    "    $$ \\forall a \\in F, \\ \\forall \\mathbf{u}, \\mathbf{v} \\in V, \\quad a(\\mathbf{u} + \\mathbf{v}) = a\\mathbf{u} + a\\mathbf{v} $$\n",
    "\n",
    "9. **Multiplicative Identity of Scalars:** The multiplicative identity of the field $ F $ behaves as an identity element for scalar multiplication in $ V $.\n",
    "    $$ \\forall \\mathbf{v} \\in V, \\quad 1 \\cdot \\mathbf{v} = \\mathbf{v} $$\n",
    "\n",
    "\n",
    "\n",
    "We will define a matrix as follows:\n",
    "\n",
    "$$ V = \\text{span}\\{ x\\cos x, x \\sin x, \\cos x, \\sin x \\} $$"
   ]
  },
  {
   "cell_type": "code",
   "execution_count": 49,
   "id": "26390148-07d8-4e05-8cdd-56c7972331a2",
   "metadata": {},
   "outputs": [
    {
     "data": {
      "text/plain": [
       "4×4 adjoint(::Matrix{Int64}) with eltype Int64:\n",
       " 0  -1  1   0\n",
       " 1   0  0   1\n",
       " 0   0  0  -1\n",
       " 0   0  1   0"
      ]
     },
     "execution_count": 49,
     "metadata": {},
     "output_type": "execute_result"
    }
   ],
   "source": [
    "V = [ 1 0 0 0 ; 0 1 0 0 ; 0 0 1 0 ; 0 0 0 1 ]\n",
    "\n",
    "D = [ 0  1  0  0 ; \n",
    "     -1  0  0  0 ;\n",
    "      1  0  0  1 ;\n",
    "      0  1 -1  0 ]'"
   ]
  },
  {
   "cell_type": "markdown",
   "id": "c929305d-2b19-409c-a57c-24bc52307988",
   "metadata": {},
   "source": [
    "I can take the derivative of each element:\n",
    "\n",
    "$\\frac{d}{dx} x\\cos x = \\cos x - x \\sin x$\n",
    "\n",
    "$\\frac{d}{dx} x\\sin x = \\sin x + x \\cos x$\n",
    "\n",
    "$\\frac{d}{dx} \\cos x = -\\sin x$\n",
    "\n",
    "$\\frac{d}{dx} \\sin x = \\cos x$"
   ]
  },
  {
   "cell_type": "markdown",
   "id": "e69aa497-ce8c-44cc-8531-7bde63ff2536",
   "metadata": {},
   "source": [
    "# Calculus\n",
    "\n",
    "## Derivatives and Integrals\n",
    "\n",
    "The derivative and integral are both **linear** operations:\n",
    "\n",
    "$$ D(a) + D(b) = D(a + b) $$\n",
    "\n",
    "$$ I(a) + I(b) = I(a + b) $$\n",
    "\n",
    "### Notation\n",
    "\n",
    "You will often see $\\frac{d}{dx}$ meaning the derivative with respect to $x$. You will also see priming for derivatives, $f(x)^\\prime = \\frac{d}{dx}(f(x))$. In physics, you will also see dot notation (or \"fly speck notation\"), $\\dot{v}$. This usually means the derivative with respect to *time* or $t$. Here $v$ is a function of time, $v(t)$ (velocity), so $\\dot{v} = \\frac{d}{dt}(v)$.\n",
    "\n",
    "For functions of multiple variables, $f(x, y)$, then we use the partial derivative notation shown as:\n",
    "\n",
    "$$ \\frac{\\partial}{\\partial x} f(x, y)$$ meaning that we take the derivative of $f(x, y)$ with respect to $x$ and treat any $y$'s as constants. You will also see, $D_x(f)$ as well.\n",
    "\n",
    "Suppose that $f(x, y) = x + y$, then $ \\frac{\\partial}{\\partial x} f(x, y) = 1 + 0 = 1$ because the derivative of $x$ is $1$ and since $y$ is a constant here, its derivative is $0$. Similarly, $ \\frac{\\partial}{\\partial y} f(x, y) = 0 + 1 = 1$ because the derivative of $y$ is $1$ and since $x$ is a constant, it is $0$.\n",
    "\n",
    "### Derivative of Constants\n",
    "\n",
    "The derivative of any constant is 0.\n",
    "\n",
    "### Derivative of $x$\n",
    "\n",
    "The derivative of any $x^1$ is 1.\n",
    "\n",
    "### Differentiation Power Rule for Polynominals\n",
    "\n",
    "$$ \\frac{d}{dx} x^n = n x^{n-1} $$\n",
    "\n",
    "### Differentiation Product Rule\n",
    "\n",
    "$$ \\frac{d}{dx}\\big( f(x)g(x) \\big) = g(x)\\frac{d}{dx}f(x) + f(x)\\frac{d}{dx}g(x)$$\n",
    "\n",
    "### Differentiation Quotient Rule\n",
    "\n",
    "$$ \\frac{d}{dx}\\big( \\frac{f(x)}{g(x)} \\big) = \\frac{g(x)\\frac{d}{dx}f(x) - f(x)\\frac{d}{dx}g(x)}{g(x)^2}$$\n",
    "\n",
    "### Chain Rule\n",
    "\n",
    "If we have a composed function like $f(x) \\circ g(x) = f(g(x))$, then we need to use something called the *chain rule*,\n",
    "\n",
    "$$ \\frac{d}{dx}(f(g)) = g(x)^\\prime f^\\prime(g(x))$$\n",
    "\n",
    "So we are multiplying the derivative of the inside function by the derivative of the outside function evaluated with the inside function as input.\n",
    "\n",
    "#### Multivariable Chain Rule\n",
    "\n",
    "The multi-variable chain rule is similar, we just have more components to worry about. Sometimes it's helpful to draw out a diagram.\n",
    "\n",
    "Given a function, $f(x(t), y(t))$ which takes two inputs which are $x$ and $y$, both of which are functions of $t$, then the derivative of $f$ with respect to $t$ would be:\n",
    "\n",
    "$$ \\frac{d f}{d t} = \\frac{\\partial f}{\\partial x} \\frac{d x}{d t} + \\frac{\\partial f}{\\partial y} \\frac{d y}{d t} $$\n",
    "\n",
    "We are going to basically take each component and add them all up.\n",
    "\n",
    "### Integration Power Rule for Polynomials\n",
    "\n",
    "$$ \\int x^n dx = \\frac{1}{n+1} x^{n+1} $$\n",
    "\n",
    "### Integration by Parts (Integration Product Rule)\n",
    "\n",
    "Given functions $u$ and $v$,\n",
    "\n",
    "$$ \\int u\\ dv = uv - \\int v\\ du $$\n",
    "\n",
    "### Integration by Partial Fraction Decomposition"
   ]
  },
  {
   "cell_type": "markdown",
   "id": "77fa6106-0296-4ef5-a200-cc7f3ec2eab5",
   "metadata": {},
   "source": []
  },
  {
   "cell_type": "markdown",
   "id": "0b4bca6f-9d7c-4f0b-872d-63c153e65af0",
   "metadata": {},
   "source": [
    "## Taylor Series\n",
    "\n",
    "This is one of the most important topics for calculus since most integrals can't be solved easily, but we can approximate them with the Taylor Series.\n",
    "\n",
    "### Some Common Taylor Series Expansions\n",
    "\n",
    "1. **Exponential Function $e^x$ around $a = 0$ (Maclaurin series):**\n",
    "   $$\n",
    "   e^x = \\sum_{n=0}^{\\infty} \\frac{x^n}{n!} = 1 + x + \\frac{x^2}{2!} + \\frac{x^3}{3!} + \\dots\n",
    "   $$\n",
    "\n",
    "2. **Sine Function $\\sin(x)$ around $a = 0$ (Maclaurin series):**\n",
    "   $$\n",
    "   \\sin(x) = \\sum_{n=0}^{\\infty} (-1)^n \\frac{x^{2n+1}}{(2n+1)!} = x - \\frac{x^3}{3!} + \\frac{x^5}{5!} - \\frac{x^7}{7!} + \\dots\n",
    "   $$\n",
    "\n",
    "3. **Cosine Function $\\cos(x)$ around $a = 0$ (Maclaurin series):**\n",
    "   $$\n",
    "   \\cos(x) = \\sum_{n=0}^{\\infty} (-1)^n \\frac{x^{2n}}{(2n)!} = 1 - \\frac{x^2}{2!} + \\frac{x^4}{4!} - \\frac{x^6}{6!} + \\dots\n",
    "   $$\n",
    "\n",
    "4. **Natural Logarithm $\\ln(1+x)$ around $a = 0$ (Maclaurin series):**\n",
    "   $$\n",
    "   \\ln(1+x) = \\sum_{n=1}^{\\infty} (-1)^{n-1} \\frac{x^n}{n} = x - \\frac{x^2}{2} + \\frac{x^3}{3} - \\frac{x^4}{4} + \\dots\n",
    "   $$\n"
   ]
  },
  {
   "cell_type": "markdown",
   "id": "e4745d37-d72f-4f25-b1ca-c6a0cc0089f8",
   "metadata": {},
   "source": [
    "## Vector Calculus"
   ]
  },
  {
   "cell_type": "markdown",
   "id": "9776cf4e-7d96-4758-8cda-0f931fbb1ffe",
   "metadata": {},
   "source": []
  },
  {
   "cell_type": "code",
   "execution_count": null,
   "id": "ff3a9968-291b-453d-ab7a-720d17d1924b",
   "metadata": {},
   "outputs": [],
   "source": []
  }
 ],
 "metadata": {
  "kernelspec": {
   "display_name": "Julia 1.9.4",
   "language": "julia",
   "name": "julia-1.9"
  },
  "language_info": {
   "file_extension": ".jl",
   "mimetype": "application/julia",
   "name": "julia",
   "version": "1.9.4"
  }
 },
 "nbformat": 4,
 "nbformat_minor": 5
}
