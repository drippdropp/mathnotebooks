{
 "cells": [
  {
   "cell_type": "markdown",
   "id": "6b16a67c-ff4f-4a64-b454-6d27d3f4d0a0",
   "metadata": {},
   "source": [
    "# Mathematics Refresher"
   ]
  },
  {
   "cell_type": "markdown",
   "id": "b6eda3d4-459b-496b-938e-11e501cc32d2",
   "metadata": {},
   "source": [
    "## Properties of Exponents and Logs\n",
    "\n",
    "Here 2 is the base and 3 is the exponent. The notation means multiply the base, 2, by itself three times.\n",
    "\n",
    "$$ 2^3 = 2 \\times 2 \\times 2 = 8 $$\n",
    "\n",
    "Generalized:\n",
    "\n",
    "$$ a^b $$\n",
    "\n",
    "If it's a negative exponent, it's the same as being in the denominator.\n",
    "\n",
    "$$ a^{-b} = \\frac{1}{a^b} $$\n",
    "\n",
    "If an exponent is a _fraction_ then it's a root.\n",
    "\n",
    "$$ a^{\\frac{1}{2}} = \\sqrt{a} $$\n",
    "$$ a^{\\frac{1}{3}} = \\sqrt[3]{a} $$\n",
    "$$ a^{-\\frac{1}{3}} = \\frac{1}{\\sqrt[3]{a}} $$\n",
    "\n",
    "The natural exponent, $e$ or $\\exp$, has an inverse which is the natural logarithm, $\\log = \\log_e = \\ln$.\n",
    "\n",
    "Commonly when written, $\\ln$ is the natural log, $\\log$ is usually log base 10 or 2 depending on the context. In thermodynamics, it's more commonly log base 10, while in computer science it's more commonly log base 2.\n",
    "\n",
    "\n"
   ]
  },
  {
   "cell_type": "markdown",
   "id": "88eb5ea6-388b-45c8-8e18-f76b1e549f97",
   "metadata": {},
   "source": [
    "## Sets, Lists, Vectors, Objects\n",
    "\n",
    "An **object** is any sort of item. It could be a number, a set, a list, anything. We will also call these _members_, _elements_, _items_, etc. depending on the context.\n",
    "\n",
    "A **set** is an unordered collection of distinct objects.\n",
    "\n",
    "$$ S = \\{ A, B, C \\} $$\n",
    "\n",
    "A **list** or a **vector** is an ordered collection of objects. We also called these _tuples_ sometimes.\n",
    "\n",
    "$$ L = ( A, A, B, C ) $$\n",
    "\n",
    "All modern mathematics are described in terms of sets, so this is super important to have a really firm grasp on."
   ]
  },
  {
   "cell_type": "markdown",
   "id": "9fda0f93-980c-40c7-a18f-45ba62afe688",
   "metadata": {},
   "source": [
    "### Set Operations\n",
    "\n",
    "There are three set operations of interest: union $A \\cup B$ , intersection $A \\cap B$, and set difference $A - B$.\n",
    "\n",
    "A union is all distinct elements from both sets, an intersection is the distinct elements which are in both sets, and a set difference $A-B$ removes all elements of $B$ from $A$.\n",
    "\n",
    "A union can be thought of as \"or\" and an intersection can be thought of as \"and\" and this translates to bitwise operations.\n",
    "\n",
    "Some more notation:\n",
    "\n",
    "If we have a set, $A$, which contains elements, $a, b, c, d, e$ all of which are also sets containing other elements. If we want to describe the collection of all of the elements of all the elements of $A$, we would write it as:\n",
    "\n",
    "$$ \\bigcup_i A_i = a \\cup b \\cup c \\cup d \\cup e $$\n",
    "\n",
    "This means for every element of $A$, which we are giving each element a dummy variable of $i$, we will take the union.\n",
    "\n",
    "$$ \\bigcup_i A_i = a \\cup b \\cup c \\cup d \\cup e $$\n",
    "\n",
    "Suppose that _all_ of the elements of $A$ contain unique elements themselves, so nothing in $a$ is in $b$ and nothing in $b$ is in $c$, etc. We can easily express that as:\n",
    "\n",
    "$$ \\bigcap_i A_i = \\emptyset $$\n",
    "\n",
    "where $\\emptyset$ is the empty set. It's a set with no elements. This means mutual exclusivity among all the elements of $A$.\n",
    "\n",
    "So, if you see $\\bigcap_i A_i = \\emptyset$, it means that every element of $A$ has elements which are unique to itself. Think about this as a square split in two sections, $S = \\{ a, b \\}$ where $a$ contains all of the points in the section $a$ and $b$ contains all of the points in section $b$. Since no point in $a$ is also in $b$ (think of a square on a coordinate plane split into two sections), the intersection of $a$ and $b$ would be the empty set. "
   ]
  },
  {
   "cell_type": "code",
   "execution_count": 19,
   "id": "93db1850-b600-4cbf-9949-61d30e427937",
   "metadata": {},
   "outputs": [
    {
     "name": "stdout",
     "output_type": "stream",
     "text": [
      "A: Set([2, 3, 1])\n",
      "B: Set([2, 3])\n",
      "Intersection of A and B: Set([2, 3])\n"
     ]
    },
    {
     "data": {
      "text/plain": [
       "Set{Int64} with 1 element:\n",
       "  1"
      ]
     },
     "execution_count": 19,
     "metadata": {},
     "output_type": "execute_result"
    }
   ],
   "source": [
    "A = Set([1,2,3])\n",
    "println(\"A: \", A)\n",
    "\n",
    "# Notice that a set must have distinct elements, so my input with two 2's is reduced to one.\n",
    "B = Set([2,2,3])\n",
    "println(\"B: \", B)\n",
    "\n",
    "# INTERSECTION:\n",
    "C = intersect(A, B)\n",
    "println(\"Intersection of A and B: \", C)\n",
    "\n",
    "# set difference\n",
    "setdiff(A, B)"
   ]
  },
  {
   "cell_type": "code",
   "execution_count": 21,
   "id": "6e44d554-6eb6-4361-be91-c2f294e78981",
   "metadata": {},
   "outputs": [
    {
     "data": {
      "text/plain": [
       "true"
      ]
     },
     "execution_count": 21,
     "metadata": {},
     "output_type": "execute_result"
    }
   ],
   "source": [
    "# Make sure you understand why this is true:\n",
    "union(A, B) == union(setdiff(A, B), B)"
   ]
  },
  {
   "cell_type": "markdown",
   "id": "e0d31002-a96d-43ce-bb2e-1cd524d40e3a",
   "metadata": {},
   "source": [
    "### Major Numerical Sets\n",
    "\n",
    "$\\mathbb{R}$ are the real numbers. This is pretty much everything including counting numbers, integers, rational numbers, transcendental numbers, etc. We often call these \"the reals.\"\n",
    "\n",
    "$\\mathbb{N}$ are the natural numbers or \"counting numbers.\" Some people include $0$ and others don't. I do, so, $\\mathbb{N} = \\{ 0, 1, 2, 3, 4 \\}$.\n",
    "\n",
    "$\\mathbb{Z}$ are the integers. The \"Z\" comes from the German word, _zahlen_, which means number. Integers are the natural numbers, but also includes negatives. Sometimes you will see stuff like, $\\mathbb{Z}^+$ which means only the positive integers, therefore $\\mathbb{Z}^+ = \\mathbb{N}$.\n",
    "\n",
    "$\\mathbb{Q}$ are the rational numbers (fractions). Note that $1 = \\frac{1}{1}$, so all integers are also included in the rationals.\n",
    "\n",
    "$\\mathbb{C}$ are the complex numbers. This is a separate topic, but complex numbers are numbers with the form: $a + bi$ where $i = \\sqrt{-1}$."
   ]
  },
  {
   "cell_type": "markdown",
   "id": "ceb61c18-6a15-4493-ba2b-4d854ee007fd",
   "metadata": {},
   "source": [
    "## Linear Algebra\n",
    "\n",
    "### Vector Spaces\n",
    "\n",
    "A _vector space_ is a set of vectors combined with some additional properties and operations.\n",
    "\n",
    "Let $V$ be a vector space. \n",
    "\n",
    "For all $a, b \\in V$ (read as \"a, b in V\"),\n",
    "\n",
    "$a + b = b + a$\n",
    "\n",
    "For all $a, b, c \\in V$,\n",
    "\n",
    "$(ab)c = a(bc)$\n",
    "\n",
    "For all $\\alpha \\in \\mathbb{R}$\n",
    "\n",
    "\n",
    "\n",
    "\n",
    "We will define a matrix as follows:\n",
    "\n",
    "$$ V = \\text{span}\\{ x\\cos x, x \\sin x, \\cos x, \\sin x \\} $$"
   ]
  },
  {
   "cell_type": "code",
   "execution_count": 23,
   "id": "26390148-07d8-4e05-8cdd-56c7972331a2",
   "metadata": {},
   "outputs": [
    {
     "data": {
      "text/plain": [
       "4×4 Matrix{Int64}:\n",
       " 1  0  0  0\n",
       " 0  1  0  0\n",
       " 0  0  1  0\n",
       " 0  0  0  1"
      ]
     },
     "execution_count": 23,
     "metadata": {},
     "output_type": "execute_result"
    }
   ],
   "source": [
    "A = [ 1 0 0 0 ; 0 1 0 0 ; 0 0 1 0 ; 0 0 0 1 ]"
   ]
  },
  {
   "cell_type": "code",
   "execution_count": null,
   "id": "5ea560c0-bf16-4bf4-ab79-2b67cde0faf2",
   "metadata": {},
   "outputs": [],
   "source": []
  }
 ],
 "metadata": {
  "kernelspec": {
   "display_name": "Julia 1.9.4",
   "language": "julia",
   "name": "julia-1.9"
  },
  "language_info": {
   "file_extension": ".jl",
   "mimetype": "application/julia",
   "name": "julia",
   "version": "1.9.4"
  }
 },
 "nbformat": 4,
 "nbformat_minor": 5
}
